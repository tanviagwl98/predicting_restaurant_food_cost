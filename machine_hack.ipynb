{
 "cells": [
  {
   "cell_type": "code",
   "execution_count": 1,
   "metadata": {},
   "outputs": [],
   "source": [
    "import numpy as np \n",
    "import pandas as pd \n",
    "import matplotlib.pyplot as plt\n",
    "import numpy as np\n",
    "import seaborn as sns\n",
    "import warnings\n",
    "warnings.filterwarnings('ignore')\n",
    "from scipy import stats\n",
    "from scipy.stats import norm\n",
    "from sklearn.preprocessing import StandardScaler\n",
    "%matplotlib inline\n",
    "from sklearn.preprocessing import LabelEncoder, OneHotEncoder\n",
    "from sklearn import linear_model\n",
    "from sklearn.linear_model import Ridge\n",
    "from sklearn.metrics import r2_score\n",
    "from sklearn.metrics import mean_squared_error\n",
    "from sklearn.preprocessing import RobustScaler\n",
    "from sklearn.pipeline import make_pipeline"
   ]
  },
  {
   "cell_type": "code",
   "execution_count": 2,
   "metadata": {},
   "outputs": [],
   "source": [
    "train = pd.read_excel('Data_Train.xlsx')\n",
    "test = pd.read_excel('Data_Test.xlsx')"
   ]
  },
  {
   "cell_type": "code",
   "execution_count": 3,
   "metadata": {},
   "outputs": [
    {
     "data": {
      "text/plain": [
       "(12690, 9)"
      ]
     },
     "execution_count": 3,
     "metadata": {},
     "output_type": "execute_result"
    }
   ],
   "source": [
    "train.shape"
   ]
  },
  {
   "cell_type": "code",
   "execution_count": 4,
   "metadata": {},
   "outputs": [
    {
     "data": {
      "text/plain": [
       "(4231, 8)"
      ]
     },
     "execution_count": 4,
     "metadata": {},
     "output_type": "execute_result"
    }
   ],
   "source": [
    "test.shape"
   ]
  },
  {
   "cell_type": "code",
   "execution_count": 5,
   "metadata": {},
   "outputs": [
    {
     "data": {
      "text/plain": [
       "Index(['TITLE', 'RESTAURANT_ID', 'CUISINES', 'TIME', 'CITY', 'LOCALITY',\n",
       "       'RATING', 'VOTES', 'COST'],\n",
       "      dtype='object')"
      ]
     },
     "execution_count": 5,
     "metadata": {},
     "output_type": "execute_result"
    }
   ],
   "source": [
    "train.columns"
   ]
  },
  {
   "cell_type": "code",
   "execution_count": 6,
   "metadata": {},
   "outputs": [
    {
     "data": {
      "text/plain": [
       "count    12690.000000\n",
       "mean       655.252246\n",
       "std        627.003540\n",
       "min         20.000000\n",
       "25%        300.000000\n",
       "50%        500.000000\n",
       "75%        800.000000\n",
       "max      14000.000000\n",
       "Name: COST, dtype: float64"
      ]
     },
     "execution_count": 6,
     "metadata": {},
     "output_type": "execute_result"
    }
   ],
   "source": [
    "train.COST.describe()"
   ]
  },
  {
   "cell_type": "code",
   "execution_count": 7,
   "metadata": {},
   "outputs": [
    {
     "data": {
      "image/png": "[encoded data removed]",
      "text/plain": [
       "<Figure size 432x288 with 1 Axes>"
      ]
     },
     "metadata": {
      "needs_background": "light"
     },
     "output_type": "display_data"
    }
   ],
   "source": [
    "sns.distplot(train['COST'])\n",
    "plt.show()"
   ]
  },
  {
   "cell_type": "code",
   "execution_count": 11,
   "metadata": {},
   "outputs": [
    {
     "data": {
      "text/plain": [
       "3.9788007578247573"
      ]
     },
     "execution_count": 11,
     "metadata": {},
     "output_type": "execute_result"
    }
   ],
   "source": [
    "train.COST.skew()\n"
   ]
  },
  {
   "cell_type": "code",
   "execution_count": 10,
   "metadata": {},
   "outputs": [
    {
     "name": "stdout",
     "output_type": "stream",
     "text": [
      "Kurtosis is 34.065257\n"
     ]
    }
   ],
   "source": [
    "print('Kurtosis is %f' % train['COST'].kurt())"
   ]
  },
  {
   "cell_type": "code",
   "execution_count": 12,
   "metadata": {},
   "outputs": [
    {
     "data": {
      "image/png": "[encoded data removed]",
      "text/plain": [
       "<Figure size 432x288 with 1 Axes>"
      ]
     },
     "metadata": {
      "needs_background": "light"
     },
     "output_type": "display_data"
    }
   ],
   "source": [
    "#using log transformation\n",
    "target = np.log(train.COST)\n",
    "sns.distplot(target)\n",
    "plt.show()"
   ]
  },
  {
   "cell_type": "code",
   "execution_count": 13,
   "metadata": {},
   "outputs": [
    {
     "name": "stdout",
     "output_type": "stream",
     "text": [
      "Skew: 0.392350\n",
      "Kurtosis : 0.168113\n"
     ]
    }
   ],
   "source": [
    "print(\"Skew: %f\" % target.skew())\n",
    "print(\"Kurtosis : %f\" % target.kurt())"
   ]
  },
  {
   "cell_type": "code",
   "execution_count": 26,
   "metadata": {},
   "outputs": [
    {
     "data": {
      "text/plain": [
       "RESTAURANT_ID    int64\n",
       "COST             int64\n",
       "dtype: object"
      ]
     },
     "execution_count": 26,
     "metadata": {},
     "output_type": "execute_result"
    }
   ],
   "source": [
    "numeric_features = train.select_dtypes(include=[np.number])\n",
    "numeric_features.dtypes"
   ]
  },
  {
   "cell_type": "code",
   "execution_count": 27,
   "metadata": {},
   "outputs": [],
   "source": [
    "corr = numeric_features.corr()"
   ]
  },
  {
   "cell_type": "code",
   "execution_count": 28,
   "metadata": {},
   "outputs": [
    {
     "name": "stdout",
     "output_type": "stream",
     "text": [
      "COST             1.00000\n",
      "RESTAURANT_ID    0.04071\n",
      "Name: COST, dtype: float64 \n",
      "\n",
      "COST             1.00000\n",
      "RESTAURANT_ID    0.04071\n",
      "Name: COST, dtype: float64\n"
     ]
    }
   ],
   "source": [
    "print(corr['COST'].sort_values(ascending = False)[:5] ,'\\n')\n",
    "print(corr['COST'].sort_values(ascending = False)[-5:])\n"
   ]
  },
  {
   "cell_type": "code",
   "execution_count": 29,
   "metadata": {},
   "outputs": [
    {
     "data": {
      "image/png": "[encoded data removed]",
      "text/plain": [
       "<Figure size 720x720 with 4 Axes>"
      ]
     },
     "metadata": {},
     "output_type": "display_data"
    }
   ],
   "source": [
    "#correlation matric\n",
    "k = 20\n",
    "cols = corr.nlargest(k, 'COST')['COST'].index\n",
    "cm = np.corrcoef(train[cols].values.T)\n",
    "sns.set(font_scale = 1.00)\n",
    "hm = sns.clustermap(cm, cmap = \"Greens\", cbar = True, square = True, \n",
    "                    yticklabels = cols.values,  xticklabels = cols.values)"
   ]
  },
  {
   "cell_type": "code",
   "execution_count": 30,
   "metadata": {},
   "outputs": [
    {
     "data": {
      "image/png": "[encoded data removed]",
      "text/plain": [
       "<Figure size 432x288 with 1 Axes>"
      ]
     },
     "metadata": {},
     "output_type": "display_data"
    }
   ],
   "source": [
    "quality = train.pivot_table(index= 'RESTAURANT_ID', values = 'COST', aggfunc=np.median)\n",
    "quality.plot(kind = 'bar', color =\"black\")\n",
    "plt.xlabel('RESTAURANT_ID')\n",
    "plt.ylabel('MEDIAN COST')\n",
    "plt.xticks(rotation = 0)\n",
    "plt.show()\n"
   ]
  },
  {
   "cell_type": "code",
   "execution_count": 31,
   "metadata": {},
   "outputs": [
    {
     "data": {
      "text/plain": [
       "<matplotlib.axes._subplots.AxesSubplot at 0x2d266e2acf8>"
      ]
     },
     "execution_count": 31,
     "metadata": {},
     "output_type": "execute_result"
    },
    {
     "data": {
      "image/png": "[encoded data removed]",
      "text/plain": [
       "<Figure size 432x288 with 1 Axes>"
      ]
     },
     "metadata": {},
     "output_type": "display_data"
    }
   ],
   "source": [
    "RI = pd.concat([train['COST'], train['RESTAURANT_ID']], axis = 1)\n",
    "RI.plot.scatter(x ='RESTAURANT_ID', y= 'COST', ylim = (0,800000), c= 'green', alpha = 0.5)"
   ]
  },
  {
   "cell_type": "code",
   "execution_count": 37,
   "metadata": {},
   "outputs": [
    {
     "data": {
      "image/png": "[encoded data removed]",
      "text/plain": [
       "<Figure size 432x288 with 1 Axes>"
      ]
     },
     "metadata": {},
     "output_type": "display_data"
    },
    {
     "data": {
      "image/png": "[encoded data removed]",
      "text/plain": [
       "<Figure size 432x288 with 1 Axes>"
      ]
     },
     "metadata": {},
     "output_type": "display_data"
    }
   ],
   "source": [
    "#histogram and probability plots\n",
    "sns.distplot(train['COST'], fit = norm, color = 'Green')\n",
    "fig= plt.figure()\n",
    "res = stats.probplot(train['COST'], plot = plt)\n"
   ]
  },
  {
   "cell_type": "code",
   "execution_count": 38,
   "metadata": {},
   "outputs": [
    {
     "data": {
      "image/png": "[encoded data removed]",
      "text/plain": [
       "<Figure size 432x288 with 1 Axes>"
      ]
     },
     "metadata": {},
     "output_type": "display_data"
    },
    {
     "data": {
      "image/png": "[encoded data removed]",
      "text/plain": [
       "<Figure size 432x288 with 1 Axes>"
      ]
     },
     "metadata": {},
     "output_type": "display_data"
    }
   ],
   "source": [
    "train['COST']= np.log1p(train['COST'])\n",
    "sns.distplot(train['COST'], fit = norm, color = 'green')\n",
    "fig = plt.figure()\n",
    "res = stats.probplot(train['COST'],plot = plt)"
   ]
  },
  {
   "cell_type": "code",
   "execution_count": 39,
   "metadata": {},
   "outputs": [
    {
     "data": {
      "text/html": [
       "<div>\n",
       "<style scoped>\n",
       "    .dataframe tbody tr th:only-of-type {\n",
       "        vertical-align: middle;\n",
       "    }\n",
       "\n",
       "    .dataframe tbody tr th {\n",
       "        vertical-align: top;\n",
       "    }\n",
       "\n",
       "    .dataframe thead th {\n",
       "        text-align: right;\n",
       "    }\n",
       "</style>\n",
       "<table border=\"1\" class=\"dataframe\">\n",
       "  <thead>\n",
       "    <tr style=\"text-align: right;\">\n",
       "      <th></th>\n",
       "      <th>Total</th>\n",
       "      <th>Percent</th>\n",
       "    </tr>\n",
       "  </thead>\n",
       "  <tbody>\n",
       "    <tr>\n",
       "      <th>VOTES</th>\n",
       "      <td>1204</td>\n",
       "      <td>0.094878</td>\n",
       "    </tr>\n",
       "    <tr>\n",
       "      <th>CITY</th>\n",
       "      <td>112</td>\n",
       "      <td>0.008826</td>\n",
       "    </tr>\n",
       "    <tr>\n",
       "      <th>LOCALITY</th>\n",
       "      <td>98</td>\n",
       "      <td>0.007723</td>\n",
       "    </tr>\n",
       "    <tr>\n",
       "      <th>RATING</th>\n",
       "      <td>2</td>\n",
       "      <td>0.000158</td>\n",
       "    </tr>\n",
       "    <tr>\n",
       "      <th>COST</th>\n",
       "      <td>0</td>\n",
       "      <td>0.000000</td>\n",
       "    </tr>\n",
       "    <tr>\n",
       "      <th>TIME</th>\n",
       "      <td>0</td>\n",
       "      <td>0.000000</td>\n",
       "    </tr>\n",
       "    <tr>\n",
       "      <th>CUISINES</th>\n",
       "      <td>0</td>\n",
       "      <td>0.000000</td>\n",
       "    </tr>\n",
       "    <tr>\n",
       "      <th>RESTAURANT_ID</th>\n",
       "      <td>0</td>\n",
       "      <td>0.000000</td>\n",
       "    </tr>\n",
       "    <tr>\n",
       "      <th>TITLE</th>\n",
       "      <td>0</td>\n",
       "      <td>0.000000</td>\n",
       "    </tr>\n",
       "  </tbody>\n",
       "</table>\n",
       "</div>"
      ],
      "text/plain": [
       "               Total   Percent\n",
       "VOTES           1204  0.094878\n",
       "CITY             112  0.008826\n",
       "LOCALITY          98  0.007723\n",
       "RATING             2  0.000158\n",
       "COST               0  0.000000\n",
       "TIME               0  0.000000\n",
       "CUISINES           0  0.000000\n",
       "RESTAURANT_ID      0  0.000000\n",
       "TITLE              0  0.000000"
      ]
     },
     "execution_count": 39,
     "metadata": {},
     "output_type": "execute_result"
    }
   ],
   "source": [
    "#missing data\n",
    "total = train.isnull().sum().sort_values(ascending = False)\n",
    "\n",
    "percent = (train.isnull().sum()/train.isnull().count()).sort_values(ascending = False)\n",
    "\n",
    "missing_data = pd.concat([total,percent], axis = 1, keys = ['Total', 'Percent'])\n",
    "missing_data.head(20)"
   ]
  },
  {
   "cell_type": "code",
   "execution_count": 40,
   "metadata": {},
   "outputs": [
    {
     "data": {
      "text/html": [
       "<div>\n",
       "<style scoped>\n",
       "    .dataframe tbody tr th:only-of-type {\n",
       "        vertical-align: middle;\n",
       "    }\n",
       "\n",
       "    .dataframe tbody tr th {\n",
       "        vertical-align: top;\n",
       "    }\n",
       "\n",
       "    .dataframe thead th {\n",
       "        text-align: right;\n",
       "    }\n",
       "</style>\n",
       "<table border=\"1\" class=\"dataframe\">\n",
       "  <thead>\n",
       "    <tr style=\"text-align: right;\">\n",
       "      <th></th>\n",
       "      <th>TITLE</th>\n",
       "      <th>CUISINES</th>\n",
       "      <th>TIME</th>\n",
       "      <th>CITY</th>\n",
       "      <th>LOCALITY</th>\n",
       "      <th>RATING</th>\n",
       "      <th>VOTES</th>\n",
       "    </tr>\n",
       "  </thead>\n",
       "  <tbody>\n",
       "    <tr>\n",
       "      <th>count</th>\n",
       "      <td>12690</td>\n",
       "      <td>12690</td>\n",
       "      <td>12690</td>\n",
       "      <td>12578</td>\n",
       "      <td>12592</td>\n",
       "      <td>12688</td>\n",
       "      <td>11486</td>\n",
       "    </tr>\n",
       "    <tr>\n",
       "      <th>unique</th>\n",
       "      <td>113</td>\n",
       "      <td>4155</td>\n",
       "      <td>2689</td>\n",
       "      <td>359</td>\n",
       "      <td>1416</td>\n",
       "      <td>32</td>\n",
       "      <td>1847</td>\n",
       "    </tr>\n",
       "    <tr>\n",
       "      <th>top</th>\n",
       "      <td>QUICK BITES</td>\n",
       "      <td>South Indian</td>\n",
       "      <td>11am – 11pm (Mon-Sun)</td>\n",
       "      <td>Chennai</td>\n",
       "      <td>Gachibowli</td>\n",
       "      <td>3.9</td>\n",
       "      <td>44 votes</td>\n",
       "    </tr>\n",
       "    <tr>\n",
       "      <th>freq</th>\n",
       "      <td>4218</td>\n",
       "      <td>532</td>\n",
       "      <td>1415</td>\n",
       "      <td>2174</td>\n",
       "      <td>166</td>\n",
       "      <td>1238</td>\n",
       "      <td>71</td>\n",
       "    </tr>\n",
       "  </tbody>\n",
       "</table>\n",
       "</div>"
      ],
      "text/plain": [
       "              TITLE      CUISINES                   TIME     CITY    LOCALITY  \\\n",
       "count         12690         12690                  12690    12578       12592   \n",
       "unique          113          4155                   2689      359        1416   \n",
       "top     QUICK BITES  South Indian  11am – 11pm (Mon-Sun)  Chennai  Gachibowli   \n",
       "freq           4218           532                   1415     2174         166   \n",
       "\n",
       "       RATING     VOTES  \n",
       "count   12688     11486  \n",
       "unique     32      1847  \n",
       "top       3.9  44 votes  \n",
       "freq     1238        71  "
      ]
     },
     "execution_count": 40,
     "metadata": {},
     "output_type": "execute_result"
    }
   ],
   "source": [
    "categorical_variables = train.select_dtypes(exclude=[np.number])\n",
    "categorical_variables.describe()\n",
    "\n",
    "##for c in categoricals.columns:##\n",
    "    #print('{:<14}'.format(c), train[c].unique())##"
   ]
  },
  {
   "cell_type": "code",
   "execution_count": 42,
   "metadata": {},
   "outputs": [],
   "source": [
    "#feature_engineering\n",
    "\n",
    "columns = ('TITLE', 'RESTAURANT_ID', 'CUISINES', 'TIME', 'CITY', 'LOCALITY',\n",
    "       'RATING', 'VOTES')\n",
    "\n",
    "for i in columns:\n",
    "    lbl = LabelEncoder() \n",
    "    lbl.fit(list(train[i].values)) \n",
    "    train[i] = lbl.transform(list(train[i].values))\n",
    "    lbl.fit(list(test[i].values)) \n",
    "    test[i] = lbl.transform(list(test[i].values))"
   ]
  },
  {
   "cell_type": "code",
   "execution_count": 44,
   "metadata": {},
   "outputs": [],
   "source": [
    "#preparing for model fitting\n",
    "train=train.drop(columns=['CITY', 'LOCALITY', 'VOTES', 'RATING', 'TIME'])\n",
    "test=test.drop(columns=['CITY', 'LOCALITY', 'VOTES', 'RATING', 'TIME'])"
   ]
  },
  {
   "cell_type": "code",
   "execution_count": 45,
   "metadata": {},
   "outputs": [],
   "source": [
    "train = train.dropna(thresh=0.70*len(train), axis=1)\n",
    "test = test.dropna(thresh=0.70*len(test), axis=1)\n",
    "\n",
    "data = train.select_dtypes(include=[np.number]).interpolate().dropna()"
   ]
  },
  {
   "cell_type": "code",
   "execution_count": 47,
   "metadata": {},
   "outputs": [],
   "source": [
    "y = train.COST\n",
    "X = data.drop(['COST','RESTAURANT_ID'], axis =1)"
   ]
  },
  {
   "cell_type": "code",
   "execution_count": 48,
   "metadata": {},
   "outputs": [],
   "source": [
    "from sklearn.model_selection import train_test_split\n",
    "X_train, X_test, y_train, y_test = train_test_split(X, y, test_size = 0.2,  random_state =1)"
   ]
  },
  {
   "cell_type": "code",
   "execution_count": 50,
   "metadata": {},
   "outputs": [
    {
     "name": "stdout",
     "output_type": "stream",
     "text": [
      "The accuracy of the Linear Regression is 0.10684133332917489\n",
      "RMSE is:  132.07092566122662\n",
      "Original predictions are: \n",
      " [27.19958374 20.43326275 27.30515211 20.71463245 20.43652103] \n",
      "\n",
      "Final predictions are: \n",
      " [6.49574738e+11 7.48261255e+08 7.21899744e+11 9.91403775e+08\n",
      " 7.50703278e+08]\n"
     ]
    }
   ],
   "source": [
    "#Linear Regression\n",
    "from sklearn import linear_model\n",
    "from sklearn.metrics import r2_score\n",
    "from sklearn.metrics import mean_squared_error\n",
    "\n",
    "\n",
    "lm = linear_model.LinearRegression()\n",
    "\n",
    "lm.fit(X_train, y_train)\n",
    "\n",
    "y_pred = lm.predict(X_test)\n",
    "print('The accuracy of the Linear Regression is',r2_score(y_test,y_pred))\n",
    "print ('RMSE is: ', mean_squared_error(y_test, y_pred))\n",
    "\n",
    "submission = pd.DataFrame()\n",
    "submission['RESTAURANT_ID'] = test.RESTAURANT_ID\n",
    "\n",
    "feats = test.select_dtypes(\n",
    "        include=[np.number]).drop(['RESTAURANT_ID'], axis=1).interpolate()\n",
    "\n",
    "predictions = lm.predict(feats)\n",
    "\n",
    "lm_predictions = np.exp(predictions)\n",
    "\n",
    "\n",
    "print (\"Original predictions are: \\n\", predictions[:5], \"\\n\")\n",
    "print (\"Final predictions are: \\n\", lm_predictions[:5])\n",
    "\n",
    "submission['cost'] = lm_predictions\n",
    "submission.head()\n",
    "\n",
    "submission.to_csv('Linear Regression.csv', index=False)"
   ]
  },
  {
   "cell_type": "code",
   "execution_count": 51,
   "metadata": {
    "scrolled": true
   },
   "outputs": [
    {
     "name": "stdout",
     "output_type": "stream",
     "text": [
      "Lambda value:  1e-05\n",
      "The accuracy of the Lasso Regression is 0.10684133479022495\n",
      "RMSE is:  132.07092544518187\n",
      "\n",
      "\n",
      "Lambda value:  0.0001\n",
      "The accuracy of the Lasso Regression is 0.10684134795725331\n",
      "RMSE is:  132.07092349817995\n",
      "\n",
      "\n",
      "Lambda value:  0.001\n",
      "The accuracy of the Lasso Regression is 0.10684147988990478\n",
      "RMSE is:  132.07090398936472\n",
      "\n",
      "\n",
      "Lambda value:  0.005\n",
      "The accuracy of the Lasso Regression is 0.10684206301262156\n",
      "RMSE is:  132.07081776330003\n",
      "\n",
      "\n",
      "Lambda value:  0.01\n",
      "The accuracy of the Lasso Regression is 0.1068428029515488\n",
      "RMSE is:  132.07070834890067\n",
      "\n",
      "\n",
      "Lambda value:  0.03\n",
      "The accuracy of the Lasso Regression is 0.10684571388457909\n",
      "RMSE is:  132.0702779106883\n",
      "\n",
      "\n",
      "Lambda value:  10\n",
      "The accuracy of the Lasso Regression is 0.10761485595822484\n",
      "RMSE is:  131.95654525665717\n",
      "\n",
      "\n",
      "Lambda value:  30\n",
      "The accuracy of the Lasso Regression is 0.10505370841132933\n",
      "RMSE is:  132.33526086441617\n",
      "\n",
      "\n",
      "Lambda value:  50\n",
      "The accuracy of the Lasso Regression is 0.09701500272917307\n",
      "RMSE is:  133.52394025608334\n",
      "\n",
      "\n",
      "Lambda value:  100\n",
      "The accuracy of the Lasso Regression is 0.05349448187940853\n",
      "RMSE is:  139.95929792362023\n",
      "\n",
      "\n",
      "Lambda value:  150\n",
      "The accuracy of the Lasso Regression is 0.001390982132853824\n",
      "RMSE is:  147.66381639105742\n",
      "\n",
      "\n",
      "Lambda value:  300\n",
      "The accuracy of the Lasso Regression is 0.0004759293107328144\n",
      "RMSE is:  147.7991247945429\n",
      "\n",
      "\n",
      "Lambda value:  500\n",
      "The accuracy of the Lasso Regression is -3.373311820475955e-05\n",
      "RMSE is:  147.87448832319276\n",
      "\n",
      "\n",
      "Lambda value:  1001\n",
      "The accuracy of the Lasso Regression is -3.373311820475955e-05\n",
      "RMSE is:  147.87448832319276\n",
      "\n",
      "\n",
      "Original predictions are: \n",
      " [27.19958079 20.43326476 27.30514904 20.71463463 20.43652304] \n",
      "\n",
      "Final lasso predictions are: \n",
      " [6.49572826e+11 7.48262762e+08 7.21897531e+11 9.91405930e+08\n",
      " 7.50704787e+08]\n"
     ]
    }
   ],
   "source": [
    "lambda_values = [0.00001, 0.0001, 0.001, 0.005, 0.01, 0.03, 10, 30, 50, 100, 150, 300, 500, 1001]\n",
    "\n",
    "from sklearn.linear_model import Lasso\n",
    "\n",
    "def train_lasso(X, Y, alpha):\n",
    "    lasso = Lasso(alpha=alpha, max_iter=1000)\n",
    "    lasso = lasso.fit(X, Y)\n",
    "    return lasso\n",
    "lasso_models = []\n",
    "\n",
    "for alpha in lambda_values:\n",
    "    l = train_lasso(X_train, y_train, alpha)\n",
    "    lasso_models.append(l)\n",
    "    \n",
    "for i, alpha in enumerate(lambda_values):\n",
    "    print('Lambda value: ',alpha)\n",
    "    y_pred_lasso = lasso_models[i].predict(X_test)\n",
    "    print('The accuracy of the Lasso Regression is',r2_score(y_test,y_pred_lasso))\n",
    "    print ('RMSE is: ', mean_squared_error(y_test, y_pred_lasso))\n",
    "    print('\\n')\n",
    "    \n",
    "    submission = pd.DataFrame()\n",
    "submission['RESTAURANT_ID'] = test.RESTAURANT_ID\n",
    "\n",
    "\n",
    "features = test.select_dtypes(\n",
    "        include=[np.number]).drop(['RESTAURANT_ID'], axis=1).interpolate()\n",
    "\n",
    "lasso_predictions = lasso_models[1].predict(features)\n",
    "final_lasso = np.exp(lasso_predictions)\n",
    "\n",
    "print (\"Original predictions are: \\n\", lasso_predictions[:5], \"\\n\")\n",
    "print (\"Final lasso predictions are: \\n\", final_lasso[:5])\n",
    "\n",
    "submission['COST'] = final_lasso\n",
    "submission.head()\n",
    "\n",
    "submission.to_csv('lasso.csv', index=False)"
   ]
  },
  {
   "cell_type": "code",
   "execution_count": 52,
   "metadata": {
    "scrolled": true
   },
   "outputs": [
    {
     "data": {
      "text/html": [
       "<div>\n",
       "<style scoped>\n",
       "    .dataframe tbody tr th:only-of-type {\n",
       "        vertical-align: middle;\n",
       "    }\n",
       "\n",
       "    .dataframe tbody tr th {\n",
       "        vertical-align: top;\n",
       "    }\n",
       "\n",
       "    .dataframe thead th {\n",
       "        text-align: right;\n",
       "    }\n",
       "</style>\n",
       "<table border=\"1\" class=\"dataframe\">\n",
       "  <thead>\n",
       "    <tr style=\"text-align: right;\">\n",
       "      <th></th>\n",
       "      <th>RESTAURANT_ID</th>\n",
       "      <th>COST</th>\n",
       "    </tr>\n",
       "  </thead>\n",
       "  <tbody>\n",
       "    <tr>\n",
       "      <th>0</th>\n",
       "      <td>1085</td>\n",
       "      <td>6.495728e+11</td>\n",
       "    </tr>\n",
       "    <tr>\n",
       "      <th>1</th>\n",
       "      <td>3374</td>\n",
       "      <td>7.482628e+08</td>\n",
       "    </tr>\n",
       "    <tr>\n",
       "      <th>2</th>\n",
       "      <td>347</td>\n",
       "      <td>7.218975e+11</td>\n",
       "    </tr>\n",
       "    <tr>\n",
       "      <th>3</th>\n",
       "      <td>42</td>\n",
       "      <td>9.914059e+08</td>\n",
       "    </tr>\n",
       "    <tr>\n",
       "      <th>4</th>\n",
       "      <td>3567</td>\n",
       "      <td>7.507048e+08</td>\n",
       "    </tr>\n",
       "  </tbody>\n",
       "</table>\n",
       "</div>"
      ],
      "text/plain": [
       "   RESTAURANT_ID          COST\n",
       "0           1085  6.495728e+11\n",
       "1           3374  7.482628e+08\n",
       "2            347  7.218975e+11\n",
       "3             42  9.914059e+08\n",
       "4           3567  7.507048e+08"
      ]
     },
     "execution_count": 52,
     "metadata": {},
     "output_type": "execute_result"
    }
   ],
   "source": [
    "submission['COST'] = final_lasso\n",
    "submission.head()"
   ]
  },
  {
   "cell_type": "code",
   "execution_count": null,
   "metadata": {},
   "outputs": [],
   "source": []
  }
 ],
 "metadata": {
  "kernelspec": {
   "display_name": "Python 3",
   "language": "python",
   "name": "python3"
  },
  "language_info": {
   "codemirror_mode": {
    "name": "ipython",
    "version": 3
   },
   "file_extension": ".py",
   "mimetype": "text/x-python",
   "name": "python",
   "nbconvert_exporter": "python",
   "pygments_lexer": "ipython3",
   "version": "3.7.0"
  }
 },
 "nbformat": 4,
 "nbformat_minor": 2
}
